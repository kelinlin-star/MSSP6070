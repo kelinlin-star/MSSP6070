{
  "nbformat": 4,
  "nbformat_minor": 0,
  "metadata": {
    "colab": {
      "provenance": [],
      "authorship_tag": "ABX9TyOHmCC/cUgW6ta1RIKWEj5X",
      "include_colab_link": true
    },
    "kernelspec": {
      "name": "python3",
      "display_name": "Python 3"
    },
    "language_info": {
      "name": "python"
    }
  },
  "cells": [
    {
      "cell_type": "markdown",
      "metadata": {
        "id": "view-in-github",
        "colab_type": "text"
      },
      "source": [
        "<a href=\"https://colab.research.google.com/github/kelinlin-star/MSSP6070/blob/main/Week_2/Assignment_2.ipynb\" target=\"_parent\"><img src=\"https://colab.research.google.com/assets/colab-badge.svg\" alt=\"Open In Colab\"/></a>"
      ]
    },
    {
      "cell_type": "code",
      "execution_count": 5,
      "metadata": {
        "colab": {
          "base_uri": "https://localhost:8080/"
        },
        "id": "OEDosCNz9-SG",
        "outputId": "33a66828-cac6-48d9-fd7b-bed737cc626a"
      },
      "outputs": [
        {
          "output_type": "stream",
          "name": "stdout",
          "text": [
            "[2, 4, 'hello', 8, 10]\n"
          ]
        }
      ],
      "source": [
        "spam = [2, 4, 6, 8, 10]\n",
        "spam[2] = 'hello'\n",
        "print(spam)\n",
        "\n"
      ]
    },
    {
      "cell_type": "code",
      "source": [
        "letters = ['a', 'b', 'c', 'd']\n",
        "print(letters[int(int('3'*2)//11)])\n",
        "print(letters[-1])\n",
        "print(letters[:2])"
      ],
      "metadata": {
        "colab": {
          "base_uri": "https://localhost:8080/"
        },
        "id": "stCTHTKB_UfI",
        "outputId": "fc45fd93-0b56-473b-ff41-8cf9791d3876"
      },
      "execution_count": 6,
      "outputs": [
        {
          "output_type": "stream",
          "name": "stdout",
          "text": [
            "d\n",
            "d\n",
            "['a', 'b']\n"
          ]
        }
      ]
    },
    {
      "cell_type": "code",
      "source": [
        "list_1 = [1, 2, 3, 4]\n",
        "\n",
        "tuple_1 = tuple(list_1)\n",
        "print(\"Tuple:\", tuple_1)\n",
        "\n",
        "list_2 = list(tuple_1)\n",
        "print(\"List:\", list_2)"
      ],
      "metadata": {
        "colab": {
          "base_uri": "https://localhost:8080/"
        },
        "id": "MoT4AfA5GNzE",
        "outputId": "1b780447-ff6e-4cc7-daa4-4ed072dae101"
      },
      "execution_count": 7,
      "outputs": [
        {
          "output_type": "stream",
          "name": "stdout",
          "text": [
            "Tuple: (1, 2, 3, 4)\n",
            "List: [1, 2, 3, 4]\n"
          ]
        }
      ]
    },
    {
      "cell_type": "code",
      "source": [
        "def format_list(spam):\n",
        "    if len(spam) == 1:\n",
        "        return spam[0]\n",
        "    elif len(spam) == 2:\n",
        "        return ' and '.join(spam)\n",
        "    else:\n",
        "        return ', '.join(spam[:-1]) + ' and ' + spam[-1]\n",
        "\n",
        "spam = ['apples', 'bananas', 'tofu', 'cats']\n",
        "print( format_list(spam))"
      ],
      "metadata": {
        "colab": {
          "base_uri": "https://localhost:8080/"
        },
        "id": "JmvQd-UcsE1g",
        "outputId": "e0fec3f6-d2b9-4e18-8d2b-829ba344eaf9"
      },
      "execution_count": 8,
      "outputs": [
        {
          "output_type": "stream",
          "name": "stdout",
          "text": [
            "apples, bananas, tofu and cats\n"
          ]
        }
      ]
    }
  ]
}